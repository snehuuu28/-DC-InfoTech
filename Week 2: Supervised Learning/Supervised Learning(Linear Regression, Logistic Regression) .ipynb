{
 "cells": [
  {
   "cell_type": "markdown",
   "id": "a33ecf3a-7275-4a96-b04c-caf04752100b",
   "metadata": {},
   "source": [
    "# Learn Linear Regression and Logistic Regression.\n"
   ]
  },
  {
   "cell_type": "markdown",
   "id": "6583dbad-db88-427f-b813-488ab725856f",
   "metadata": {},
   "source": [
    "# 1. Linear Regression"
   ]
  },
  {
   "cell_type": "raw",
   "id": "597195b2-5eda-48fb-9678-6f5ae90d78fd",
   "metadata": {},
   "source": [
    "Linear Regression:\n",
    "Linear Regression is a statistical method that models the relationship between a dependent variable (target) and one or more independent variables (features) by fitting a linear equation to observed data.\n",
    "\n",
    "Equation: For a simple linear regression with one independent variable:\n",
    "            𝑦 = 𝛽0+β1𝑥+𝜖\n",
    "        \n",
    "           y: Dependent variable (what you're trying to predict)\n",
    "           x: Independent variable (predictor)\n",
    "          𝛽0: Intercept\n",
    "          𝛽1: Slope (how much y changes for a unit change in x)\n",
    "           ϵ: Error term (difference between actual and predicted values)"
   ]
  },
  {
   "cell_type": "code",
   "execution_count": 3,
   "id": "c4a63844-1105-4ced-a026-a20bb94575e3",
   "metadata": {},
   "outputs": [],
   "source": [
    "# Exmaple"
   ]
  },
  {
   "cell_type": "code",
   "execution_count": 4,
   "id": "0b4a66ed-0977-4f02-b283-da26c3378878",
   "metadata": {},
   "outputs": [
    {
     "name": "stdout",
     "output_type": "stream",
     "text": [
      "Predicted values: [1. 2. 3. 4. 5.]\n",
      "Slope (beta_1): [1.]\n",
      "Intercept (beta_0): -8.881784197001252e-16\n"
     ]
    }
   ],
   "source": [
    "from sklearn.linear_model import LinearRegression\n",
    "import numpy as np\n",
    "import pandas as pd\n",
    "\n",
    "# Sample data\n",
    "X = np.array([1, 2, 3, 4, 5]).reshape(-1, 1)\n",
    "y = np.array([1, 2, 3, 4, 5])\n",
    "\n",
    "# Create a linear regression model\n",
    "model = LinearRegression()\n",
    "\n",
    "# Fit the model\n",
    "model.fit(X, y)\n",
    "\n",
    "# Predict values\n",
    "y_pred = model.predict(X)\n",
    "\n",
    "print(\"Predicted values:\", y_pred)\n",
    "print(\"Slope (beta_1):\", model.coef_)\n",
    "print(\"Intercept (beta_0):\", model.intercept_)\n"
   ]
  },
  {
   "cell_type": "markdown",
   "id": "8f081944-9499-402b-b92f-82bf7644de9d",
   "metadata": {},
   "source": [
    "# Logistic Regression"
   ]
  },
  {
   "cell_type": "raw",
   "id": "a7a29b4e-1ba4-43aa-9ef3-4fdd5308748c",
   "metadata": {},
   "source": [
    "Logistic Regression:\n",
    "Logistic Regression is used for binary classification problems, where the goal is to predict one of two possible outcomes. It models the probability that a given input point belongs to a particular class.\n",
    "\n",
    "Equation: The logistic regression model uses the logistic function (also known as the sigmoid function):\n",
    "\n",
    "        P(y=1) = 1/(1+e−(β0+β1x1))\n",
    "\n",
    "        P(y=1): Probability that the outcome is 1 (the class of interest)\n",
    "        β0,β1 : Coefficients (parameters) to be learned from the data\n",
    "        x: Independent variable"
   ]
  },
  {
   "cell_type": "code",
   "execution_count": 6,
   "id": "60b9403f-225f-4248-9584-aa36b7e4d230",
   "metadata": {},
   "outputs": [
    {
     "name": "stdout",
     "output_type": "stream",
     "text": [
      "Predicted probabilities: [0.0629065  0.16055696 0.35273334 0.6082585  0.81563382]\n",
      "Predicted class: [0 0 0 1 1]\n"
     ]
    }
   ],
   "source": [
    "from sklearn.linear_model import LogisticRegression\n",
    "\n",
    "# Sample data\n",
    "X = np.array([[1], [2], [3], [4], [5]])\n",
    "y = np.array([0, 0, 0, 1, 1])\n",
    "\n",
    "# Create a logistic regression model\n",
    "model = LogisticRegression()\n",
    "\n",
    "# Fit the model\n",
    "model.fit(X, y)\n",
    "\n",
    "# Predict probabilities\n",
    "y_prob = model.predict_proba(X)[:, 1]\n",
    "y_pred = model.predict(X)\n",
    "\n",
    "print(\"Predicted probabilities:\", y_prob)\n",
    "print(\"Predicted class:\", y_pred)\n"
   ]
  },
  {
   "cell_type": "markdown",
   "id": "c643ac1c-7c36-4e28-a292-1bf21470eb99",
   "metadata": {},
   "source": [
    "# Understanding Overfitting, Underfitting, and Model Evaluation (Cross-Validation)"
   ]
  },
  {
   "cell_type": "raw",
   "id": "db3775d4-2868-441d-811e-8d69b96f5f7b",
   "metadata": {},
   "source": [
    "1. Overfitting\n",
    "Overfitting occurs when a model learns the details and noise in the training data to such an extent that it negatively impacts the model's performance on new data. The model becomes too complex, capturing patterns that do not generalize well to unseen data.\n",
    "\n",
    "# Signs of Overfitting:\n",
    "   High accuracy on training data.\n",
    "   Poor accuracy on test data.\n",
    "\n",
    "#Solutions:\n",
    "    Simplify the model (reduce the number of features or use regularization).\n",
    "    Use more training data.\n",
    "    Implement cross-validation."
   ]
  },
  {
   "cell_type": "code",
   "execution_count": 8,
   "id": "69791f90-b0bb-4e79-b0be-08bc075792df",
   "metadata": {},
   "outputs": [
    {
     "data": {
      "image/png": "[encoded data removed]",
      "text/plain": [
       "<Figure size 640x480 with 1 Axes>"
      ]
     },
     "metadata": {},
     "output_type": "display_data"
    }
   ],
   "source": [
    "import numpy as np\n",
    "import matplotlib.pyplot as plt\n",
    "from sklearn.preprocessing import PolynomialFeatures\n",
    "from sklearn.linear_model import LinearRegression\n",
    "\n",
    "# Generate a small sample dataset\n",
    "X = np.array([1, 2, 3, 4, 5]).reshape(-1, 1)\n",
    "y = np.array([1, 4, 9, 16, 25])  # Quadratic relationship (y = x^2)\n",
    "\n",
    "# Fit a 4th-degree polynomial model (overfitting)\n",
    "poly = PolynomialFeatures(degree=4)\n",
    "X_poly = poly.fit_transform(X)\n",
    "model = LinearRegression()\n",
    "model.fit(X_poly, y)\n",
    "\n",
    "# Predict values\n",
    "y_pred = model.predict(X_poly)\n",
    "\n",
    "# Plot the results\n",
    "plt.scatter(X, y, color='blue', label='Original data')\n",
    "plt.plot(X, y_pred, color='red', label='4th-degree polynomial fit')\n",
    "plt.legend()\n",
    "plt.title(\"Overfitting Example\")\n",
    "plt.show()\n"
   ]
  },
  {
   "cell_type": "raw",
   "id": "2a9b7090-cf6a-4f30-b93c-3f6773d9ca04",
   "metadata": {},
   "source": [
    "2. Underfitting\n",
    "Underfitting occurs when a model is too simple to capture the underlying patterns in the data. The model performs poorly on both training and test data.\n",
    "\n",
    "#Signs of Underfitting:\n",
    "    Poor accuracy on training data.\n",
    "    Poor accuracy on test data.\n",
    "\n",
    "#Solutions:\n",
    "    Increase model complexity.\n",
    "    Add more features.\n",
    "    Reduce regularization.\n"
   ]
  },
  {
   "cell_type": "code",
   "execution_count": 9,
   "id": "8913c966-e758-4e7f-8873-82aeb2f74c3a",
   "metadata": {},
   "outputs": [
    {
     "data": {
      "image/png": "[encoded data removed]",
      "text/plain": [
       "<Figure size 640x480 with 1 Axes>"
      ]
     },
     "metadata": {},
     "output_type": "display_data"
    }
   ],
   "source": [
    "# Fit a linear regression model (underfitting)\n",
    "model = LinearRegression()\n",
    "model.fit(X, y)\n",
    "\n",
    "# Predict values\n",
    "y_pred = model.predict(X)\n",
    "\n",
    "# Plot the results\n",
    "plt.scatter(X, y, color='blue', label='Original data')\n",
    "plt.plot(X, y_pred, color='red', label='Linear regression fit')\n",
    "plt.legend()\n",
    "plt.title(\"Underfitting Example\")\n",
    "plt.show()\n"
   ]
  },
  {
   "cell_type": "raw",
   "id": "3d15a115-80b2-48c6-8a71-ebba5cb6fb79",
   "metadata": {},
   "source": [
    "3. Model Evaluation (Cross-Validation)\n",
    "Cross-validation is a technique used to assess the generalizability of a model. It involves splitting the dataset into several subsets, training the model on some subsets, and validating it on others.\n",
    "\n",
    "K-Fold Cross-Validation:\n",
    "   The dataset is divided into k equally sized folds.\n",
    "   The model is trained k times, each time using a different fold as the test set and the remaining folds as the training set.\n",
    "   The performance is averaged over all k trials.\n"
   ]
  },
  {
   "cell_type": "code",
   "execution_count": 10,
   "id": "5660ce9e-d471-4768-b36a-445a63233625",
   "metadata": {},
   "outputs": [
    {
     "name": "stdout",
     "output_type": "stream",
     "text": [
      "Cross-validation scores for each fold: [0.83162158 0.79583429 0.89535825 0.8960282  0.99455152]\n",
      "Mean cross-validation score: 0.8826787692960686\n"
     ]
    }
   ],
   "source": [
    "import numpy as np\n",
    "from sklearn.linear_model import LinearRegression\n",
    "from sklearn.model_selection import cross_val_score\n",
    "\n",
    "# Sample dataset\n",
    "X = np.array([1, 2, 3, 4, 5, 6, 7, 8, 9, 10]).reshape(-1, 1)\n",
    "y = np.array([1.2, 2.8, 3.6, 4.5, 5.1, 6.3, 7.0, 8.4, 9.2, 10.1])\n",
    "\n",
    "# Initialize the Linear Regression model\n",
    "model = LinearRegression()\n",
    "\n",
    "# Perform 5-fold cross-validation\n",
    "# cv=5 means we split the data into 5 parts\n",
    "scores = cross_val_score(model, X, y, cv=5)\n",
    "\n",
    "# Output the cross-validation scores and the mean score\n",
    "print(\"Cross-validation scores for each fold:\", scores)\n",
    "print(\"Mean cross-validation score:\", np.mean(scores))\n"
   ]
  },
  {
   "cell_type": "code",
   "execution_count": 11,
   "id": "057d6aad-fcbc-4ec9-894e-093b42390b4d",
   "metadata": {},
   "outputs": [
    {
     "name": "stdout",
     "output_type": "stream",
     "text": [
      "Cross-validation scores: [nan nan nan nan nan]\n",
      "Average score: nan\n"
     ]
    }
   ],
   "source": [
    "from sklearn.model_selection import cross_val_score\n",
    "from sklearn.linear_model import LinearRegression\n",
    "import numpy as np\n",
    "import warnings\n",
    "warnings.filterwarnings('ignore')\n",
    "\n",
    "\n",
    "# Sample data\n",
    "X = np.array([1, 2, 3, 4, 5]).reshape(-1, 1)\n",
    "y = np.array([1, 2, 3, 4, 5])\n",
    "\n",
    "# Create a linear regression model\n",
    "model = LinearRegression()\n",
    "\n",
    "# Perform 5-fold cross-validation\n",
    "scores = cross_val_score(model, X, y, cv=5)\n",
    "\n",
    "print(\"Cross-validation scores:\", scores)\n",
    "print(\"Average score:\", np.mean(scores))\n"
   ]
  },
  {
   "cell_type": "markdown",
   "id": "0226d7b8-97de-499b-9cb8-ed58f49c9dfd",
   "metadata": {},
   "source": [
    "# Summary"
   ]
  },
  {
   "cell_type": "raw",
   "id": "3901f1b2-c34a-45af-a880-93d466b8bedf",
   "metadata": {},
   "source": [
    "1) Linear Regression: Models the relationship between a dependent variable and one or more independent variables by fitting a linear equation.\n",
    "\n",
    "2) Logistic Regression: Used for binary classification problems, predicting the probability that a given input belongs to a specific class.\n",
    "\n",
    "3)Overfitting: The model is too complex and performs well on training data but poorly on test data.\n",
    "\n",
    "4)Underfitting: The model is too simple and performs poorly on both training and test data.\n",
    "\n",
    "5)Cross-Validation: A technique to evaluate model performance and ensure it generalizes well to new data."
   ]
  },
  {
   "cell_type": "code",
   "execution_count": null,
   "id": "d22da27e-a43f-453d-bf1a-6bbeb3ae3691",
   "metadata": {},
   "outputs": [],
   "source": []
  }
 ],
 "metadata": {
  "kernelspec": {
   "display_name": "Python 3 (ipykernel)",
   "language": "python",
   "name": "python3"
  },
  "language_info": {
   "codemirror_mode": {
    "name": "ipython",
    "version": 3
   },
   "file_extension": ".py",
   "mimetype": "text/x-python",
   "name": "python",
   "nbconvert_exporter": "python",
   "pygments_lexer": "ipython3",
   "version": "3.12.4"
  }
 },
 "nbformat": 4,
 "nbformat_minor": 5
}
