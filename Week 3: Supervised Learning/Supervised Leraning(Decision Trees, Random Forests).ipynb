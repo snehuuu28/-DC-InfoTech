{
 "cells": [
  {
   "cell_type": "markdown",
   "id": "66023d43-e9dd-4db3-8b83-6f4f591a0047",
   "metadata": {},
   "source": [
    "# Explore classification algorithms like Decision Trees, Random Forests."
   ]
  },
  {
   "cell_type": "markdown",
   "id": "2b1d0efd-43d0-4de0-a616-f4fd8d5be463",
   "metadata": {},
   "source": [
    "# 1. Decision Trees"
   ]
  },
  {
   "cell_type": "markdown",
   "id": "907db0e1-9192-4d1b-9eb8-2aa24b7fdc71",
   "metadata": {},
   "source": [
    "Decision Trees are supervised learning algorithms used for classification and regression tasks. They create a model that predicts the value of a target variable by learning decision rules from features."
   ]
  },
  {
   "cell_type": "markdown",
   "id": "9ba09865-ebac-433f-9ba9-85d9754dfd8f",
   "metadata": {},
   "source": [
    "# How Decision Trees Work:"
   ]
  },
  {
   "cell_type": "raw",
   "id": "aed3acb5-e89f-4253-9ca9-69fc480e2d62",
   "metadata": {},
   "source": [
    "Split data based on feature values using measures like Gini impurity or information gain.\n",
    "Create branches where the nodes represent decisions, and leaves represent the outcomes (classes)."
   ]
  },
  {
   "cell_type": "markdown",
   "id": "308f3e75-1af8-4545-bbb2-204ba10ad575",
   "metadata": {},
   "source": [
    "# Key Advantages:"
   ]
  },
  {
   "cell_type": "raw",
   "id": "d3dae9fe-5152-47b4-85a1-d8c7aa2ed32c",
   "metadata": {},
   "source": [
    "Easy to visualize and interpret.\n",
    "Requires little data preparation (no need for scaling).\n",
    "Handles both numerical and categorical data."
   ]
  },
  {
   "cell_type": "markdown",
   "id": "07a775ee-601b-424d-87b6-f09058f77187",
   "metadata": {},
   "source": [
    "# Dataset"
   ]
  },
  {
   "cell_type": "raw",
   "id": "df43e4df-aa3d-4c38-bf1d-4003f73f7974",
   "metadata": {},
   "source": [
    "We will create a small dataset of students' performance in a class with the following features:\n",
    "\n",
    "1) Hours_Studied: Number of hours the student studied.\n",
    "2) Assignments_Completed: Number of assignments completed.\n",
    "3) Pass/Fail: Whether the student passed or failed the class."
   ]
  },
  {
   "cell_type": "code",
   "execution_count": 7,
   "id": "196c9727-4bd3-4a20-9d7b-b29dc30b0432",
   "metadata": {},
   "outputs": [
    {
     "data": {
      "text/html": [
       "<div>\n",
       "<style scoped>\n",
       "    .dataframe tbody tr th:only-of-type {\n",
       "        vertical-align: middle;\n",
       "    }\n",
       "\n",
       "    .dataframe tbody tr th {\n",
       "        vertical-align: top;\n",
       "    }\n",
       "\n",
       "    .dataframe thead th {\n",
       "        text-align: right;\n",
       "    }\n",
       "</style>\n",
       "<table border=\"1\" class=\"dataframe\">\n",
       "  <thead>\n",
       "    <tr style=\"text-align: right;\">\n",
       "      <th></th>\n",
       "      <th>Hours_Studied</th>\n",
       "      <th>Assignments_Completed</th>\n",
       "      <th>Pass_Fail</th>\n",
       "    </tr>\n",
       "  </thead>\n",
       "  <tbody>\n",
       "    <tr>\n",
       "      <th>0</th>\n",
       "      <td>5</td>\n",
       "      <td>10</td>\n",
       "      <td>Pass</td>\n",
       "    </tr>\n",
       "    <tr>\n",
       "      <th>1</th>\n",
       "      <td>2</td>\n",
       "      <td>5</td>\n",
       "      <td>Fail</td>\n",
       "    </tr>\n",
       "    <tr>\n",
       "      <th>2</th>\n",
       "      <td>9</td>\n",
       "      <td>9</td>\n",
       "      <td>Pass</td>\n",
       "    </tr>\n",
       "    <tr>\n",
       "      <th>3</th>\n",
       "      <td>8</td>\n",
       "      <td>7</td>\n",
       "      <td>Pass</td>\n",
       "    </tr>\n",
       "    <tr>\n",
       "      <th>4</th>\n",
       "      <td>3</td>\n",
       "      <td>4</td>\n",
       "      <td>Fail</td>\n",
       "    </tr>\n",
       "    <tr>\n",
       "      <th>5</th>\n",
       "      <td>4</td>\n",
       "      <td>8</td>\n",
       "      <td>Pass</td>\n",
       "    </tr>\n",
       "    <tr>\n",
       "      <th>6</th>\n",
       "      <td>7</td>\n",
       "      <td>6</td>\n",
       "      <td>Pass</td>\n",
       "    </tr>\n",
       "    <tr>\n",
       "      <th>7</th>\n",
       "      <td>6</td>\n",
       "      <td>6</td>\n",
       "      <td>Pass</td>\n",
       "    </tr>\n",
       "  </tbody>\n",
       "</table>\n",
       "</div>"
      ],
      "text/plain": [
       "   Hours_Studied  Assignments_Completed Pass_Fail\n",
       "0              5                     10      Pass\n",
       "1              2                      5      Fail\n",
       "2              9                      9      Pass\n",
       "3              8                      7      Pass\n",
       "4              3                      4      Fail\n",
       "5              4                      8      Pass\n",
       "6              7                      6      Pass\n",
       "7              6                      6      Pass"
      ]
     },
     "execution_count": 7,
     "metadata": {},
     "output_type": "execute_result"
    }
   ],
   "source": [
    "import pandas as pd\n",
    "\n",
    "# Small dataset\n",
    "data = {\n",
    "    'Hours_Studied': [5, 2, 9, 8, 3, 4, 7, 6],\n",
    "    'Assignments_Completed': [10, 5, 9, 7, 4, 8, 6, 6],\n",
    "    'Pass_Fail': ['Pass', 'Fail', 'Pass', 'Pass', 'Fail', 'Pass', 'Pass', 'Pass']}\n",
    "\n",
    "# Create DataFrame\n",
    "df = pd.DataFrame(data)\n",
    "\n",
    "# Display the data\n",
    "df"
   ]
  },
  {
   "cell_type": "markdown",
   "id": "35b2e465-d10f-43d9-8910-fbf022ec93f9",
   "metadata": {},
   "source": [
    "# Decision Tree Example"
   ]
  },
  {
   "cell_type": "code",
   "execution_count": 9,
   "id": "4b8795a9-ea0e-4b22-b7e5-7edf78f95885",
   "metadata": {},
   "outputs": [
    {
     "name": "stdout",
     "output_type": "stream",
     "text": [
      "Decision Tree Accuracy: 1.0\n",
      "\n",
      "Decision Tree Classification Report:\n",
      "               precision    recall  f1-score   support\n",
      "\n",
      "           0       1.00      1.00      1.00         1\n",
      "           1       1.00      1.00      1.00         1\n",
      "\n",
      "    accuracy                           1.00         2\n",
      "   macro avg       1.00      1.00      1.00         2\n",
      "weighted avg       1.00      1.00      1.00         2\n",
      "\n"
     ]
    }
   ],
   "source": [
    "# Import necessary libraries\n",
    "from sklearn.model_selection import train_test_split\n",
    "from sklearn.tree import DecisionTreeClassifier\n",
    "from sklearn.preprocessing import LabelEncoder\n",
    "from sklearn.metrics import accuracy_score, classification_report\n",
    "import warnings\n",
    "warnings.filterwarnings('ignore')\n",
    "\n",
    "# Encode the target variable (Pass/Fail)\n",
    "le = LabelEncoder()\n",
    "df['Pass_Fail'] = le.fit_transform(df['Pass_Fail'])  # 1 = Pass, 0 = Fail\n",
    "\n",
    "# Define features (X) and target (y)\n",
    "X = df[['Hours_Studied', 'Assignments_Completed']]\n",
    "y = df['Pass_Fail']\n",
    "\n",
    "# Split data into train and test sets (80% training, 20% test)\n",
    "X_train, X_test, y_train, y_test = train_test_split(X, y, test_size=0.2, random_state=42)\n",
    "\n",
    "# Initialize and train Decision Tree classifier\n",
    "clf = DecisionTreeClassifier()\n",
    "clf.fit(X_train, y_train)\n",
    "\n",
    "# Make predictions\n",
    "y_pred = clf.predict(X_test)\n",
    "\n",
    "# Evaluate the model\n",
    "print(\"Decision Tree Accuracy:\", accuracy_score(y_test, y_pred))\n",
    "print(\"\\nDecision Tree Classification Report:\\n\", classification_report(y_test, y_pred))\n"
   ]
  },
  {
   "cell_type": "markdown",
   "id": "40f36f40-4888-4db4-8bc5-d62f0f0de4dc",
   "metadata": {},
   "source": [
    "# Random Forests"
   ]
  },
  {
   "cell_type": "raw",
   "id": "d905beb8-3d9b-4023-9b58-2b24dbf74b70",
   "metadata": {},
   "source": [
    "Random Forest is an ensemble learning method that creates multiple decision trees during training and outputs the class that is the mode of the classes (classification) or mean prediction (regression) of the individual trees.\n"
   ]
  },
  {
   "cell_type": "markdown",
   "id": "177b3431-f1d2-4f69-9d0e-78640f5942ea",
   "metadata": {},
   "source": [
    "# How Random Forests Work:"
   ]
  },
  {
   "cell_type": "raw",
   "id": "2242a066-4544-4cdc-a4be-daf9568a846d",
   "metadata": {},
   "source": [
    "Build multiple decision trees using random subsets of the data and features.\n",
    "Aggregate the results of all trees to improve accuracy and reduce overfitting."
   ]
  },
  {
   "cell_type": "markdown",
   "id": "3a04d84d-c43c-417f-893d-a5972daf03e5",
   "metadata": {},
   "source": [
    "# Key Advantages:"
   ]
  },
  {
   "cell_type": "raw",
   "id": "a8bfacb4-9f91-4c36-873e-dbc370b07ce5",
   "metadata": {},
   "source": [
    "Reduces overfitting compared to a single decision tree.\n",
    "More robust and accurate.\n",
    "Works well with large datasets and high-dimensional data."
   ]
  },
  {
   "cell_type": "markdown",
   "id": "09804c58-f69e-4e73-8202-4f843f21850d",
   "metadata": {},
   "source": [
    "# Random Forest Example"
   ]
  },
  {
   "cell_type": "code",
   "execution_count": 14,
   "id": "7608a989-7758-491c-8e2d-d44586b9a294",
   "metadata": {},
   "outputs": [
    {
     "name": "stdout",
     "output_type": "stream",
     "text": [
      "Random Forest Accuracy: 1.0\n",
      "\n",
      "Random Forest Classification Report:\n",
      "               precision    recall  f1-score   support\n",
      "\n",
      "           0       1.00      1.00      1.00         1\n",
      "           1       1.00      1.00      1.00         1\n",
      "\n",
      "    accuracy                           1.00         2\n",
      "   macro avg       1.00      1.00      1.00         2\n",
      "weighted avg       1.00      1.00      1.00         2\n",
      "\n"
     ]
    }
   ],
   "source": [
    "# Import RandomForestClassifier\n",
    "from sklearn.ensemble import RandomForestClassifier\n",
    "\n",
    "# Initialize and train Random Forest classifier\n",
    "rf_clf = RandomForestClassifier(n_estimators=10, random_state=42)  # Using 10 trees for simplicity\n",
    "rf_clf.fit(X_train, y_train)\n",
    "\n",
    "# Make predictions\n",
    "y_pred_rf = rf_clf.predict(X_test)\n",
    "\n",
    "# Evaluate the model\n",
    "print(\"Random Forest Accuracy:\", accuracy_score(y_test, y_pred_rf))\n",
    "print(\"\\nRandom Forest Classification Report:\\n\", classification_report(y_test, y_pred_rf))\n"
   ]
  },
  {
   "cell_type": "markdown",
   "id": "37acbc3c-79c4-4328-a5d7-c3505e475b6b",
   "metadata": {},
   "source": [
    "# Summary"
   ]
  },
  {
   "cell_type": "raw",
   "id": "dcac3f62-8f3a-412f-9e35-b5012de4683a",
   "metadata": {},
   "source": [
    "Decision Tree:\n",
    "\n",
    "1) A simple, interpretable model that splits data into branches based on feature values.\n",
    "2) It works well on small datasets but can easily overfit."
   ]
  },
  {
   "cell_type": "raw",
   "id": "c19bbeea-7e80-46af-a468-cccde6812564",
   "metadata": {},
   "source": [
    "Random Forest:\n",
    "\n",
    "1) An ensemble of multiple decision trees that improves accuracy by averaging their predictions.\n",
    "2) It reduces overfitting but is more complex and harder to interpret."
   ]
  }
 ],
 "metadata": {
  "kernelspec": {
   "display_name": "Python 3 (ipykernel)",
   "language": "python",
   "name": "python3"
  },
  "language_info": {
   "codemirror_mode": {
    "name": "ipython",
    "version": 3
   },
   "file_extension": ".py",
   "mimetype": "text/x-python",
   "name": "python",
   "nbconvert_exporter": "python",
   "pygments_lexer": "ipython3",
   "version": "3.12.4"
  }
 },
 "nbformat": 4,
 "nbformat_minor": 5
}
